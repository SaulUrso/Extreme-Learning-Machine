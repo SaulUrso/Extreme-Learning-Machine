{
 "cells": [
  {
   "cell_type": "code",
   "execution_count": 3,
   "metadata": {},
   "outputs": [],
   "source": [
    "import datautils\n",
    "import pandas as pd\n",
    "import modelutils as mu\n",
    "import nesterov\n",
    "import numpy as np\n",
    "import matplotlib.pyplot as plt\n",
    "import time\n",
    "import pickle\n",
    "import itertools"
   ]
  },
  {
   "cell_type": "code",
   "execution_count": 4,
   "metadata": {},
   "outputs": [],
   "source": [
    "DATASET = \"Dataset/ML-CUP23-TR.csv\"\n",
    "RESULTS = \"Results/\"\n",
    "PLOT = \"Plots/\"\n",
    "RUNS = \"FullRuns/\""
   ]
  },
  {
   "cell_type": "code",
   "execution_count": 5,
   "metadata": {},
   "outputs": [],
   "source": [
    "df_cup = pd.read_csv(DATASET, skiprows=6)\n",
    "df_cup.rename(columns={\"# Training set: ID\": \"ID\"}, inplace=True)"
   ]
  },
  {
   "cell_type": "code",
   "execution_count": 6,
   "metadata": {},
   "outputs": [
    {
     "name": "stdout",
     "output_type": "stream",
     "text": [
      "<class 'pandas.core.frame.DataFrame'>\n",
      "RangeIndex: 640 entries, 0 to 639\n",
      "Data columns (total 14 columns):\n",
      " #   Column  Non-Null Count  Dtype  \n",
      "---  ------  --------------  -----  \n",
      " 0   ID      640 non-null    int64  \n",
      " 1   x1      640 non-null    float64\n",
      " 2   x2      640 non-null    float64\n",
      " 3   x3      640 non-null    float64\n",
      " 4   x4      640 non-null    float64\n",
      " 5   x5      640 non-null    float64\n",
      " 6   x6      640 non-null    float64\n",
      " 7   x7      640 non-null    float64\n",
      " 8   x8      640 non-null    float64\n",
      " 9   x9      640 non-null    float64\n",
      " 10  x10     640 non-null    float64\n",
      " 11  y1      640 non-null    float64\n",
      " 12  y2      640 non-null    float64\n",
      " 13  y3      640 non-null    float64\n",
      "dtypes: float64(13), int64(1)\n",
      "memory usage: 70.1 KB\n",
      "(640, 10) (640, 3)\n",
      "(160, 10) (160, 3)\n",
      "(200, 10) (200, 3)\n"
     ]
    }
   ],
   "source": [
    "# create test and training sets\n",
    "DESIGN_SIZE = 0.8\n",
    "TRAIN_SIZE = 0.8\n",
    "\n",
    "df_design, df_test = datautils.hold_out(df_cup, DESIGN_SIZE)\n",
    "\n",
    "assert (\n",
    "    len(list(set(df_design[\"ID\"]) & set(df_test[\"ID\"]))) == 0\n",
    ")  # have intersection of cardinality zero\n",
    "\n",
    "# TODO: Decidere se fare kfold\n",
    "df_train, df_val = datautils.hold_out(df_design, TRAIN_SIZE)\n",
    "\n",
    "df_train.info()\n",
    "\n",
    "X_train, y_train = datautils.obtain_features_targets(df_train)\n",
    "print(X_train.shape, y_train.shape)\n",
    "\n",
    "X_val, y_val = datautils.obtain_features_targets(df_val)\n",
    "print(X_val.shape, y_val.shape)\n",
    "\n",
    "X_test, y_test = datautils.obtain_features_targets(df_test)\n",
    "print(X_test.shape, y_test.shape)\n",
    "\n",
    "input_size = X_train.shape[1]\n",
    "output_size = y_train.shape[1]"
   ]
  },
  {
   "cell_type": "code",
   "execution_count": 20,
   "metadata": {},
   "outputs": [],
   "source": [
    "# initialize elm\n",
    "hidden_size = 2\n",
    "model = mu.ELM(input_size, hidden_size, output_size)"
   ]
  },
  {
   "cell_type": "code",
   "execution_count": 21,
   "metadata": {},
   "outputs": [
    {
     "ename": "ModuleNotFoundError",
     "evalue": "No module named 'scipy'",
     "output_type": "error",
     "traceback": [
      "\u001b[0;31m---------------------------------------------------------------------------\u001b[0m",
      "\u001b[0;31mModuleNotFoundError\u001b[0m                       Traceback (most recent call last)",
      "Cell \u001b[0;32mIn[21], line 1\u001b[0m\n\u001b[0;32m----> 1\u001b[0m \u001b[38;5;28;01mfrom\u001b[39;00m \u001b[38;5;21;01mscipy\u001b[39;00m\u001b[38;5;21;01m.\u001b[39;00m\u001b[38;5;21;01moptimize\u001b[39;00m \u001b[38;5;28;01mimport\u001b[39;00m minimize\n",
      "\u001b[0;31mModuleNotFoundError\u001b[0m: No module named 'scipy'"
     ]
    }
   ],
   "source": [
    "from scipy.optimize import minimize\n"
   ]
  },
  {
   "cell_type": "code",
   "execution_count": null,
   "metadata": {},
   "outputs": [],
   "source": []
  }
 ],
 "metadata": {
  "kernelspec": {
   "display_name": "venv",
   "language": "python",
   "name": "python3"
  },
  "language_info": {
   "codemirror_mode": {
    "name": "ipython",
    "version": 3
   },
   "file_extension": ".py",
   "mimetype": "text/x-python",
   "name": "python",
   "nbconvert_exporter": "python",
   "pygments_lexer": "ipython3",
   "version": "3.11.8"
  }
 },
 "nbformat": 4,
 "nbformat_minor": 2
}
