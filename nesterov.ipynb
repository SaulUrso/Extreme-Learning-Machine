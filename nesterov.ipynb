{
 "cells": [
  {
   "cell_type": "markdown",
   "metadata": {},
   "source": [
    "Notebook for Adam experiments"
   ]
  },
  {
   "cell_type": "code",
   "execution_count": null,
   "metadata": {},
   "outputs": [],
   "source": [
    "import datautils\n",
    "import pandas as pd\n",
    "import modelutils as mu\n",
    "import nesterov\n",
    "import numpy as np\n",
    "import matplotlib.pyplot as plt\n",
    "import time"
   ]
  },
  {
   "cell_type": "code",
   "execution_count": null,
   "metadata": {},
   "outputs": [],
   "source": [
    "DATASET = \"Dataset/ML-CUP23-TR.csv\"\n",
    "RESULTS = \"Results/\"\n",
    "PLOT = \"Plots/\""
   ]
  },
  {
   "cell_type": "code",
   "execution_count": null,
   "metadata": {},
   "outputs": [],
   "source": [
    "df_cup = pd.read_csv(DATASET, skiprows=6)\n",
    "df_cup.rename(columns={\"# Training set: ID\": \"ID\"}, inplace=True)"
   ]
  },
  {
   "cell_type": "code",
   "execution_count": null,
   "metadata": {},
   "outputs": [],
   "source": [
    "df_cup.info()"
   ]
  },
  {
   "cell_type": "code",
   "execution_count": null,
   "metadata": {},
   "outputs": [],
   "source": [
    "# create test and training sets\n",
    "DESIGN_SIZE = 0.8\n",
    "TRAIN_SIZE = 0.8\n",
    "\n",
    "df_design, df_test = datautils.hold_out(df_cup, DESIGN_SIZE)\n",
    "\n",
    "assert (\n",
    "    len(list(set(df_design[\"ID\"]) & set(df_test[\"ID\"]))) == 0\n",
    ")  # have intersection of cardinality zero\n",
    "\n",
    "# TODO: Decidere se fare kfold\n",
    "df_train, df_val = datautils.hold_out(df_design, TRAIN_SIZE)\n",
    "\n",
    "df_train.info()\n",
    "\n",
    "X_train, y_train = datautils.obtain_features_targets(df_train)\n",
    "print(X_train.shape, y_train.shape)\n",
    "\n",
    "X_val, y_val = datautils.obtain_features_targets(df_val)\n",
    "print(X_val.shape, y_val.shape)\n",
    "\n",
    "X_test, y_test = datautils.obtain_features_targets(df_test)\n",
    "print(X_test.shape, y_test.shape)\n",
    "\n",
    "input_size = X_train.shape[1]\n",
    "output_size = y_train.shape[1]"
   ]
  },
  {
   "cell_type": "code",
   "execution_count": null,
   "metadata": {},
   "outputs": [],
   "source": [
    "# dictionary for results, with keys the strings and values empty lists\n",
    "results_dict = {\n",
    "    \"Hidden size\": [],\n",
    "    \"Mu\": [],\n",
    "    \"Beta\": [],\n",
    "    \"Epsilon\": [],\n",
    "    \"Alpha\": [],\n",
    "    \"Seed\": [],\n",
    "    \"Initialization type\": [],\n",
    "    \"Train\": [],\n",
    "    \"Validation\": [],\n",
    "    \"Time\": [],\n",
    "    \"Epochs\": [],\n",
    "}"
   ]
  },
  {
   "cell_type": "code",
   "execution_count": null,
   "metadata": {},
   "outputs": [],
   "source": [
    "# hyperparameters\n",
    "HIDDEN_SIZE = 1000\n",
    "LEARNING_RATE = \"auto\"\n",
    "BETA = 0\n",
    "ALPHA = 1e-8\n",
    "EPSILON = 1e-10"
   ]
  },
  {
   "cell_type": "code",
   "execution_count": null,
   "metadata": {},
   "outputs": [],
   "source": [
    "# iterate over multiple seeds\n",
    "\n",
    "for initialization in [\"fan-in\", \"std\"]:\n",
    "    for seed in range(10):\n",
    "        # initialize the model\n",
    "        model = mu.ELM(\n",
    "            input_size,\n",
    "            HIDDEN_SIZE,\n",
    "            output_size,\n",
    "            seed=seed,\n",
    "            init=initialization,\n",
    "        )\n",
    "\n",
    "        # measure the time\n",
    "        start_time = time.process_time()\n",
    "\n",
    "        # train model\n",
    "        final_model, loss_train_history, loss_val_history, epochs = (\n",
    "            nesterov.nag(\n",
    "                model,\n",
    "                X_train,\n",
    "                y_train,\n",
    "                X_val,\n",
    "                y_val,\n",
    "                lr=LEARNING_RATE,\n",
    "                alpha=ALPHA,\n",
    "                beta=BETA,\n",
    "                max_epochs=1000000,\n",
    "                eps=EPSILON,\n",
    "                # fast_mode=True,\n",
    "                # verbose=True,\n",
    "            )\n",
    "        )\n",
    "\n",
    "        end_time = time.process_time()\n",
    "\n",
    "        # save the results\n",
    "\n",
    "        results_dict[\"Hidden size\"].append(HIDDEN_SIZE)\n",
    "        results_dict[\"Mu\"].append(LEARNING_RATE)\n",
    "        results_dict[\"Beta\"].append(BETA)\n",
    "        results_dict[\"Epsilon\"].append(EPSILON)\n",
    "        results_dict[\"Alpha\"].append(ALPHA)\n",
    "        results_dict[\"Seed\"].append(seed)\n",
    "        results_dict[\"Initialization type\"].append(initialization)\n",
    "        results_dict[\"Train\"].append(loss_train_history[-1])\n",
    "        results_dict[\"Validation\"].append(loss_val_history[-1])\n",
    "        results_dict[\"Time\"].append(end_time - start_time)\n",
    "        results_dict[\"Epochs\"].append(epochs)\n",
    "\n",
    "        # plot results\n",
    "        plt.plot(\n",
    "            np.arange(1, len(loss_train_history) + 1),\n",
    "            loss_train_history,\n",
    "            label=\"Train\",\n",
    "        )\n",
    "        plt.plot(\n",
    "            np.arange(1, len(loss_train_history) + 1),\n",
    "            loss_val_history,\n",
    "            label=\"Validation\",\n",
    "        )\n",
    "        plt.legend()\n",
    "        # set title and labels\n",
    "        plt.title(f\"Loss {initialization} {seed}\")\n",
    "        plt.xlabel(\"Epoch\")\n",
    "        plt.ylabel(\"Loss\")\n",
    "        # set axis scale\n",
    "        plt.xscale(\"log\")\n",
    "        plt.yscale(\"log\")\n",
    "        # fix y axis to have comparable plots\n",
    "        plt.ylim(0.001, 1000)\n",
    "        plt.show()\n",
    "        # save the plot\n",
    "        plt.savefig(PLOT + f\"loss_{initialization}_{seed}.png\")\n",
    "\n",
    "\n",
    "results = pd.DataFrame(results_dict)\n",
    "results.to_csv(\n",
    "    RESULTS + f\"results_initialization_{HIDDEN_SIZE}.csv\", index=False\n",
    ")"
   ]
  },
  {
   "cell_type": "code",
   "execution_count": null,
   "metadata": {},
   "outputs": [],
   "source": [
    "#show average training, validation and time, show also the standard deviation\n",
    "results.groupby(\"Initialization type\")[[\"Train\", \"Validation\", \"Time\"]].agg(\n",
    "    [\"mean\", \"std\"]\n",
    ")"
   ]
  }
 ],
 "metadata": {
  "kernelspec": {
   "display_name": "venv",
   "language": "python",
   "name": "python3"
  },
  "language_info": {
   "codemirror_mode": {
    "name": "ipython",
    "version": 3
   },
   "file_extension": ".py",
   "mimetype": "text/x-python",
   "name": "python",
   "nbconvert_exporter": "python",
   "pygments_lexer": "ipython3",
   "version": "3.11.8"
  }
 },
 "nbformat": 4,
 "nbformat_minor": 2
}
